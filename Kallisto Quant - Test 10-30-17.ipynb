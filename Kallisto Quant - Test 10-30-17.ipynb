{
 "cells": [
  {
   "cell_type": "markdown",
   "metadata": {},
   "source": [
    "# Kallisto Quant - Test 10-30-17"
   ]
  },
  {
   "cell_type": "markdown",
   "metadata": {},
   "source": [
    "# Sample Test FASTQ Files\n",
    "\n",
    "Parental Dataset:\n",
    "\n",
    "/raw/RNAseq_RAW_DATA/parental_datasets/SRR3649333_1.fastq\n",
    "/raw/RNAseq_RAW_DATA/parental_datasets/SRR3649333_2.fastq\n",
    "/raw/RNAseq_RAW_DATA/parental_datasets/SRR3649334_1.fastq\n",
    "/raw/RNAseq_RAW_DATA/parental_datasets/SRR3649334_2.fastq\n",
    "\n",
    "Brain Dataset:\n",
    "\n",
    "/raw/RNAseq_RAW_DATA/brain_derivative/SRR3649337_1.fastq\n",
    "/raw/RNAseq_RAW_DATA/brain_derivative/SRR3649337_2.fastq\n",
    "/raw/RNAseq_RAW_DATA/brain_derivative/SRR3649336_1.fastq\n",
    "/raw/RNAseq_RAW_DATA/brain_derivative/SRR3649336_2.fastq\n",
    "/raw/RNAseq_RAW_DATA/brain_derivative/SRR3649335_1.fastq\n",
    "/raw/RNAseq_RAW_DATA/brain_derivative/SRR3649335_2.fastq\n",
    "\n",
    "\n",
    "## On command line move the first 4000 lines from each file into a new folder called \"FASTQ_TEST_Data\"\n",
    "\n",
    "head -n4000 SRR3649333_1.fastq > ../../TEST_FILES/\n",
    "\n",
    "\n",
    "\n",
    "-rw-r--r-- 1 bngo project 205K Oct 30 15:35 SRR3649333_1_4000_test.fastq\n",
    "-rw-r--r-- 1 bngo project 205K Oct 30 15:38 SRR3649335_1_4000_test.fastq\n",
    "-rw-r--r-- 1 bngo project 205K Oct 30 15:38 SRR3649335_2_4000_test.fastq\n",
    "-rw-r--r-- 1 bngo project 205K Oct 30 15:38 SRR3649336_1_4000_test.fastq\n",
    "-rw-r--r-- 1 bngo project 205K Oct 30 15:38 SRR3649336_2_4000_test.fastq\n",
    "-rw-r--r-- 1 bngo project 205K Oct 30 15:41 SRR3649333_2_4000_test.fastq\n",
    "-rw-r--r-- 1 bngo project 205K Oct 30 15:41 SRR3649334_1_4000_test.fastq\n",
    "-rw-r--r-- 1 bngo project 205K Oct 30 15:42 SRR3649334_2_4000_test.fastq\n",
    "\n",
    "\n",
    "/raw/RNAseq_RAW_DATA/fastq_test_data/TEST_FASTQ_TEST.config\n",
    "\n"
   ]
  },
  {
   "cell_type": "code",
   "execution_count": null,
   "metadata": {
    "collapsed": true
   },
   "outputs": [],
   "source": []
  },
  {
   "cell_type": "code",
   "execution_count": 2,
   "metadata": {},
   "outputs": [
    {
     "name": "stdout",
     "output_type": "stream",
     "text": [
      "DONEKJDSFLKJDGLKSJDG\n",
      "DONEKJDSFLKJDGLKSJDG\n",
      "DONEKJDSFLKJDGLKSJDG\n",
      "DONEKJDSFLKJDGLKSJDG\n"
     ]
    }
   ],
   "source": [
    "import sys\n",
    "import re\n",
    "from Bio import SeqIO\n",
    "\n",
    "index = \"/raw/RNAseq_RAW_DATA/reference_dataset/transcripts.idx\"\n",
    "config_fastq = open(\"/raw/RNAseq_RAW_DATA/fastq_test_data/TEST_FASTQ_TEST.config\" , \"r\")\n",
    "\n",
    "outputdir = \"/raw/RNAseq_RAW_DATA/TEST/\"\n",
    "output_extension = \".kallisto.output\"\n",
    "\n",
    "fastq_path_lists_input = []\n",
    "read1= ''\n",
    "read2= ''\n",
    "sample_ids = []\n",
    "\n",
    "condition = ['Parental', 'Parental', 'Brain', 'Brain', 'Brain']\n",
    "\n",
    "### WRITE OUT TO TEXT META-DATA-CONFIG FILE ####\n",
    "    \n",
    "sleuth = open(\"/raw/RNAseq_RAW_DATA/TEST/sleuth__test_meta.txt\", \"w+\")\n",
    "\n",
    "sleuth.write(\"sample\" + \"\\t\" + \"condition\" + \"\\t\" + \"path\" + \"\\n\")\n",
    "\n",
    "\n",
    "##### FASTQ ######\n",
    "\n",
    "for line in config_fastq:\n",
    "    \n",
    "    line = line.rstrip()\n",
    "    if line.startswith(\"#\"):\n",
    "        continue\n",
    "    else:\n",
    "        fastq_read_path = line\n",
    "        fastq_path_lists_input.append(fastq_read_path)\n",
    "        \n",
    "for i in range(0, len(fastq_path_lists_input), 2):\n",
    "    read1 = fastq_path_lists_input[i]\n",
    "    read2 = fastq_path_lists_input[i+1]\n",
    "    \n",
    "    sample_id = read1.split(\"/\")\n",
    "    sample_id = sample_id[4]\n",
    "    sample_id = sample_id.split(\"_\")\n",
    "    sample_id = sample_id[0]       \n",
    "    sample_ids.append(sample_id)\n",
    "    \n",
    "    #! time kallisto quant -i $index -o $outputdir$sample_id$output_extension -b 100 -t 8 $read1 $read2\n",
    "    \n",
    "    ### writes out to SLEUTH file #####\n",
    "\n",
    "for i in range(0,len(sample_ids), 1):      \n",
    "\n",
    "    sleuth.write(sample_ids[i] + \"\\t\" + condition[i] + \"\\t\" + outputdir + sample_id + output_extension + \"\\n\")\n",
    "    \n",
    "    print(\"DONEKJDSFLKJDGLKSJDG\")"
   ]
  },
  {
   "cell_type": "code",
   "execution_count": null,
   "metadata": {
    "collapsed": true
   },
   "outputs": [],
   "source": []
  }
 ],
 "metadata": {
  "kernelspec": {
   "display_name": "Python 3",
   "language": "python",
   "name": "python3"
  },
  "language_info": {
   "codemirror_mode": {
    "name": "ipython",
    "version": 3
   },
   "file_extension": ".py",
   "mimetype": "text/x-python",
   "name": "python",
   "nbconvert_exporter": "python",
   "pygments_lexer": "ipython3",
   "version": "3.6.3"
  }
 },
 "nbformat": 4,
 "nbformat_minor": 2
}
