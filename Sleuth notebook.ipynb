{
 "cells": [
  {
   "cell_type": "code",
   "execution_count": 6,
   "metadata": {},
   "outputs": [
    {
     "name": "stdout",
     "output_type": "stream",
     "text": [
      "Loading required package: methods\n",
      "Loading required package: ggplot2\n",
      "Loading required package: dplyr\n",
      "\n",
      "Attaching package: ‘dplyr’\n",
      "\n",
      "The following objects are masked from ‘package:stats’:\n",
      "\n",
      "    filter, lag\n",
      "\n",
      "The following objects are masked from ‘package:base’:\n",
      "\n",
      "    intersect, setdiff, setequal, union\n",
      "\n",
      "        Sample\n",
      "1 SRR3649333_1\n",
      "2 SRR3649334_1\n",
      "3 SRR3649335_1\n",
      "4 SRR3649336_1\n",
      "5 SRR3649337_1\n",
      "                                                                                     Path\n",
      "1 /raw/RNAseq_RAW_DATA/rnaseq_fasta/RNASEQ_FASTA_TEST/kallisto_index_test/Kallisto_QUANT/\n",
      "2 /raw/RNAseq_RAW_DATA/rnaseq_fasta/RNASEQ_FASTA_TEST/kallisto_index_test/Kallisto_QUANT/\n",
      "3 /raw/RNAseq_RAW_DATA/rnaseq_fasta/RNASEQ_FASTA_TEST/kallisto_index_test/Kallisto_QUANT/\n",
      "4 /raw/RNAseq_RAW_DATA/rnaseq_fasta/RNASEQ_FASTA_TEST/kallisto_index_test/Kallisto_QUANT/\n",
      "5 /raw/RNAseq_RAW_DATA/rnaseq_fasta/RNASEQ_FASTA_TEST/kallisto_index_test/Kallisto_QUANT/\n",
      "  Condition\n",
      "1  Parental\n",
      "2  Parental\n",
      "3     Brain\n",
      "4     Brain\n",
      "5     Brain\n",
      "[1] /raw/RNAseq_RAW_DATA/rnaseq_fasta/RNASEQ_FASTA_TEST/kallisto_index_test/Kallisto_QUANT/\n",
      "[2] /raw/RNAseq_RAW_DATA/rnaseq_fasta/RNASEQ_FASTA_TEST/kallisto_index_test/Kallisto_QUANT/\n",
      "[3] /raw/RNAseq_RAW_DATA/rnaseq_fasta/RNASEQ_FASTA_TEST/kallisto_index_test/Kallisto_QUANT/\n",
      "[4] /raw/RNAseq_RAW_DATA/rnaseq_fasta/RNASEQ_FASTA_TEST/kallisto_index_test/Kallisto_QUANT/\n",
      "[5] /raw/RNAseq_RAW_DATA/rnaseq_fasta/RNASEQ_FASTA_TEST/kallisto_index_test/Kallisto_QUANT/\n",
      "Levels: /raw/RNAseq_RAW_DATA/rnaseq_fasta/RNASEQ_FASTA_TEST/kallisto_index_test/Kallisto_QUANT/\n"
     ]
    }
   ],
   "source": [
    "! Rscript SLEUTH_R_SCRIPT.r\n"
   ]
  },
  {
   "cell_type": "code",
   "execution_count": null,
   "metadata": {
    "collapsed": true
   },
   "outputs": [],
   "source": []
  },
  {
   "cell_type": "markdown",
   "metadata": {},
   "source": [
    "meta is my variable in R \n",
    "\n",
    "you can designate columns by using $(column) or using index notation = meta[], where [] direct to a column \n",
    "\n",
    "\n",
    "### dont want to set \"condition\" to a character (always keep as a FACTOR)\n",
    "#this allows you to group things later by FACTOR"
   ]
  },
  {
   "cell_type": "code",
   "execution_count": null,
   "metadata": {
    "collapsed": true
   },
   "outputs": [],
   "source": []
  }
 ],
 "metadata": {
  "kernelspec": {
   "display_name": "Python 3",
   "language": "python",
   "name": "python3"
  },
  "language_info": {
   "codemirror_mode": {
    "name": "ipython",
    "version": 3
   },
   "file_extension": ".py",
   "mimetype": "text/x-python",
   "name": "python",
   "nbconvert_exporter": "python",
   "pygments_lexer": "ipython3",
   "version": "3.6.3"
  }
 },
 "nbformat": 4,
 "nbformat_minor": 2
}
