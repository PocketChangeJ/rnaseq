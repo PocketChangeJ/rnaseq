{
 "cells": [
  {
   "cell_type": "markdown",
   "metadata": {},
   "source": [
    "# Log onto AWS server \n",
    "\n",
    "cd\n",
    "\n",
    "# jupyter notebook :\n",
    "\n",
    "# SLEUTH GUIDE\n",
    "http://achri.blogspot.com/2016/10/using-kallisto-sleuth.html\n",
    "https://cgatoxford.wordpress.com/2015/10/12/road-testing-kallisto/\n",
    "\n",
    "\n",
    "1. Before executing programs, simplify the process by creating a test file \n",
    "2. To make test files unzip the .gz files with the \"gunzip\" command\n",
    "3. To run the gunzip command in the background: \n",
    "    - use the \"&\" sign \n",
    "    - or \"ctrl z\" followed by \"bg\"\n",
    "4. manipulate the fastq files using the command line to generate a new \"test\" file with the first 4000 lines using the \"head\" function\n",
    "     \n",
    "     head -n4000 SRR3649333_1.fastq > ../../TEST_FILES/SRR3649333_1_TEST_4000.fastq\n",
    "     \n",
    "   HELP ME KALLISTO + SLEUTH:\n",
    "   \n",
    "   https://learning.cyverse.org/projects/kallisto_tutorial/en/latest/step4.html\n",
    "   \n",
    "   https://informatics.fas.harvard.edu/kallisto-example-on-odyssey.html\n",
    "   \n",
    "   \n",
    "   \n",
    "     Link to RNAseq Data:\n",
    "https://www.ebi.ac.uk/ena/data/view/PRJNA324845\n",
    "     \n",
    "\n"
   ]
  },
  {
   "cell_type": "raw",
   "metadata": {},
   "source": [
    "# Configuration Files for Python\n",
    "\n",
    "https://martin-thoma.com/configuration-files-in-python/\n",
    "\n",
    "#RAW_DATA_location\n",
    "/data/project/RNAseq_RAW_DATA/parental_datasets/SRR3649333_1.fastq\n",
    "/data/project/RNAseq_RAW_DATA/parental_datasets/SRR3649333_2.fastq\n",
    "/data/project/RNAseq_RAW_DATA/parental_datasets/SRR3649334_1.fastq\n",
    "/data/project/RNAseq_RAW_DATA/parental_datasets/SRR3649334_2.fastq\n",
    "/data/project/RNAseq_RAW_DATA/brain_derivative/SRR3649335_1.fastq\n",
    "/data/project/RNAseq_RAW_DATA/brain_derivative/SRR3649335_2.fastq\n",
    "/data/project/RNAseq_RAW_DATA/brain_derivative/SRR3649336_1.fastq\n",
    "/data/project/RNAseq_RAW_DATA/brain_derivative/SRR3649336_2.fastq\n",
    "/data/project/RNAseq_RAW_DATA/brain_derivative/SRR3649337_1.fastq\n",
    "/data/project/RNAseq_RAW_DATA/brain_derivative/SRR3649337_2.fastq"
   ]
  },
  {
   "cell_type": "code",
   "execution_count": 1,
   "metadata": {},
   "outputs": [
    {
     "name": "stdout",
     "output_type": "stream",
     "text": [
      "edited fasta from read 1 /raw/RNAseq_RAW_DATA/parental_datasets/SRR3649333_1.fastq\n",
      "edited fasta from read 2 /raw/RNAseq_RAW_DATA/parental_datasets/SRR3649333_2.fastq\n",
      "edited fasta from read 1 /raw/RNAseq_RAW_DATA/parental_datasets/SRR3649334_1.fastq\n",
      "edited fasta from read 2 /raw/RNAseq_RAW_DATA/parental_datasets/SRR3649334_2.fastq\n",
      "edited fasta from read 1 /raw/RNAseq_RAW_DATA/brain_derivative/SRR3649335_1.fastq\n",
      "edited fasta from read 2 /raw/RNAseq_RAW_DATA/brain_derivative/SRR3649335_2.fastq\n",
      "edited fasta from read 1 /raw/RNAseq_RAW_DATA/brain_derivative/SRR3649336_1.fastq\n",
      "edited fasta from read 2 /raw/RNAseq_RAW_DATA/brain_derivative/SRR3649336_2.fastq\n",
      "edited fasta from read 1 /raw/RNAseq_RAW_DATA/brain_derivative/SRR3649337_1.fastq\n",
      "edited fasta from read 2 /raw/RNAseq_RAW_DATA/brain_derivative/SRR3649337_2.fastq\n"
     ]
    }
   ],
   "source": [
    "#Parsing Config File into Kallisto\n",
    "\n",
    "import sys\n",
    "import re\n",
    "from Bio import SeqIO\n",
    "import numpy\n",
    "\n",
    "config = open(\"/data/project/Kallisto_Alignment/Raw_Local.txt\" , \"r\")\n",
    "\n",
    "line_count = 0\n",
    "\n",
    "fastq_path_lists_input = []\n",
    "fastq_path = ''\n",
    "\n",
    "for line in config:\n",
    "    line = line.rstrip()\n",
    "    if line.startswith(\"#\"):\n",
    "        continue\n",
    "    else:\n",
    "        fastq_read_path = line \n",
    "    \n",
    "        #append adds to a list defined above as fastq_path_lists_input\n",
    "        fastq_path_lists_input.append(fastq_read_path)\n",
    "\n",
    "#print(fastq_path_lists_input)\n",
    "    \n",
    "for i in range(0, len(fastq_path_lists_input), 2):\n",
    "\n",
    "    read1 = fastq_path_lists_input[i]\n",
    "    read2 = fastq_path_lists_input[i+1]\n",
    "    \n",
    "    read1_fasta = SeqIO.convert(read1, \"fastq\", read1 + \".fasta\", \"fasta\")\n",
    "    read2_fasta = SeqIO.convert(read2, \"fastq\", read2 + \".fasta\", \"fasta\")\n",
    "\n",
    "    print(\"edited fasta from read 1\", read1)\n",
    "    print(\"edited fasta from read 2\", read2)"
   ]
  },
  {
   "cell_type": "code",
   "execution_count": null,
   "metadata": {
    "collapsed": true
   },
   "outputs": [],
   "source": []
  },
  {
   "cell_type": "markdown",
   "metadata": {},
   "source": [
    "# Kallisto RNAseq Alignment Platform:\n",
    "\n",
    "Link to original paper: https://www.nature.com/nbt/journal/v34/n5/pdf/nbt.3519.pdf\n",
    "Link to Kallisto website: https://pachterlab.github.io/kallisto/about.html\n",
    "\n",
    "# Background Info:\n",
    "\n",
    "kallisto can process either single-end or paired-end reads. The default running mode is paired-end and requires an even number of FASTQ files represented as pairs, e.g.\n",
    "\n",
    "# Procedure:\n",
    "\n",
    "1. Convert FASTQ files to FASTA \n",
    "\n",
    "2. Kallisto index\n",
    "\n",
    "3. Kallisto quant\n",
    "\n",
    "4. \n",
    "\n",
    "\n",
    "\n"
   ]
  },
  {
   "cell_type": "markdown",
   "metadata": {},
   "source": [
    "# install bio python\n"
   ]
  },
  {
   "cell_type": "markdown",
   "metadata": {},
   "source": [
    "# FASTQ to FASTA Conversion"
   ]
  },
  {
   "cell_type": "code",
   "execution_count": 27,
   "metadata": {},
   "outputs": [
    {
     "name": "stdout",
     "output_type": "stream",
     "text": [
      "75.0\n",
      "0.0\n",
      "Converted 1000 records\n"
     ]
    }
   ],
   "source": [
    "## Generate FASTA file from FASTQ\n",
    "\n",
    "from Bio import SeqIO\n",
    "import numpy\n",
    "\n",
    "## The Bio.SeqIO.convert() function will take handles or filenames.\n",
    "\n",
    "#records = SeqIO.parse(\"../project/TEST_FILES/SRR3649333_1_TEST_4000.fastq\", \"FASTA\")\n",
    "#count = SeqIO.write(records, \"my_example.fasta\", \"fasta\")\n",
    "#print(\"Converted %i records\" % count)\n",
    "\n",
    "## Alternatively: \n",
    "\n",
    "## FASTQ parser \n",
    "\n",
    "count = SeqIO.convert(\"/data/project/TEST_FILES/SRR3649333_1_TEST_4000.fastq\", \"fastq\", \"/data/project/TEST_FILES/SRR3649333_1_TEST_4000.fasta\", \"fasta\")\n",
    "records = SeqIO.parse(\"/data/project/TEST_FILES/SRR3649333_1_TEST_4000.fastq\", \"fastq\")\n",
    "\n",
    "id_dict = SeqIO.to_dict(SeqIO.parse(\"/data/project/TEST_FILES/SRR3649333_1_TEST_4000.fastq\", 'fastq'))\n",
    "\n",
    "total_lines = 0\n",
    "total_sequence_length = 0\n",
    "line_lengths = []\n",
    "\n",
    "for seq in id_dict:\n",
    "    #seq = ID\n",
    "    #print(seq)\n",
    "    \n",
    "    #prints the whole object for that particular ID\n",
    "    #print(id_dict[seq])\n",
    "    \n",
    "    #retrieves sequence of value in dictionary\n",
    "    #print(id_dict[seq].seq)\n",
    "    \n",
    "    #.seq is the module function that retrieves the sequence \n",
    "    total_sequence_length += len(id_dict[seq].seq)\n",
    "    total_lines += 1\n",
    "    line_lengths.append(len(id_dict[seq].seq))\n",
    "    \n",
    "average = total_sequence_length/total_lines\n",
    "\n",
    "std = np.std(line_lengths)\n",
    "\n",
    "print(average)\n",
    "print(std)\n",
    "    \n",
    "    #print(len(id_dict[seq].seq))\n",
    "    \n",
    "    \n",
    "\n",
    "print(\"Converted %i records\" % count)\n",
    "\n"
   ]
  },
  {
   "cell_type": "code",
   "execution_count": 44,
   "metadata": {},
   "outputs": [
    {
     "name": "stdout",
     "output_type": "stream",
     "text": [
      "1000\n",
      "<generator object parse at 0x7ff9f46d42b0>\n"
     ]
    }
   ],
   "source": [
    "from Bio import SeqIO\n",
    "import numpy\n",
    "\n",
    "\n",
    "count = SeqIO.convert(\"/data/project/TEST_FILES/SRR3649333_2_TEST_4000.fastq\", \"fastq\", \"/data/project/TEST_FILES/SRR3649333_2_TEST_4000.fasta\", \"fasta\")\n",
    "records = SeqIO.parse(\"/data/project/TEST_FILES/SRR3649333_2_TEST_4000.fastq\", \"fastq\")\n",
    "\n",
    "id_dict = SeqIO.to_dict(SeqIO.parse(\"/data/project/TEST_FILES/SRR3649333_2_TEST_4000.fastq\", 'fastq'))\n",
    "\n",
    "\n",
    "print (count)\n",
    "print(records)"
   ]
  },
  {
   "cell_type": "markdown",
   "metadata": {},
   "source": [
    "# Kallisto Index\n",
    "\n",
    "builds an index from a FASTA formatted file of target sequences. The arguments for the index command are:\n",
    "\n",
    "# Usage: kallisto index [arguments] FASTA-files\n",
    "\n",
    "Required argument:\n",
    "-i, --index=STRING          Filename for the kallisto index to be constructed\n",
    "\n",
    "Optional argument:\n",
    "-k, --kmer-size=INT         k-mer (odd) length (default: 31, max value: 31)\n",
    "    --make-unique           Replace repeated target names with unique names"
   ]
  },
  {
   "cell_type": "code",
   "execution_count": 7,
   "metadata": {},
   "outputs": [
    {
     "name": "stdout",
     "output_type": "stream",
     "text": [
      "\r\n",
      "kallisto 0.43.1\r\n",
      "Builds a kallisto index\r\n",
      "\r\n",
      "Usage: kallisto index [arguments] FASTA-files\r\n",
      "\r\n",
      "Required argument:\r\n",
      "-i, --index=STRING          Filename for the kallisto index to be constructed \r\n",
      "\r\n",
      "Optional argument:\r\n",
      "-k, --kmer-size=INT         k-mer (odd) length (default: 31, max value: 31)\r\n",
      "    --make-unique           Replace repeated target names with unique names\r\n",
      "\r\n"
     ]
    }
   ],
   "source": [
    "! kallisto index"
   ]
  },
  {
   "cell_type": "code",
   "execution_count": 67,
   "metadata": {},
   "outputs": [
    {
     "name": "stdout",
     "output_type": "stream",
     "text": [
      "\n",
      "[build] loading fasta file /raw/RNAseq_RAW_DATA/rnaseq_fasta/RNASEQ_FASTA_TEST/SRR3649333_1.fastq.fasta.test\n",
      "[build] loading fasta file /raw/RNAseq_RAW_DATA/rnaseq_fasta/RNASEQ_FASTA_TEST/SRR3649333_2.fastq.fasta.test\n",
      "[build] k-mer length: 31\n",
      "[build] warning: clipped off poly-A tail (longer than 10)\n",
      "        from 3 target sequences\n",
      "[build] warning: replaced 132 non-ACGUT characters in the input sequence\n",
      "        with pseudorandom nucleotides\n",
      "[build] counting k-mers ... done.\n",
      "[build] building target de Bruijn graph ...  done \n",
      "[build] creating equivalence classes ...  done\n",
      "[build] target de Bruijn graph has 3146 contigs and contains 111481 k-mers \n",
      "\n",
      "\n",
      "[build] loading fasta file /raw/RNAseq_RAW_DATA/rnaseq_fasta/RNASEQ_FASTA_TEST/SRR3649334_1.fastq.fasta.test\n",
      "[build] loading fasta file /raw/RNAseq_RAW_DATA/rnaseq_fasta/RNASEQ_FASTA_TEST/SRR3649334_2.fastq.fasta.test\n",
      "[build] k-mer length: 31\n",
      "[build] warning: clipped off poly-A tail (longer than 10)\n",
      "        from 3 target sequences\n",
      "[build] warning: replaced 220 non-ACGUT characters in the input sequence\n",
      "        with pseudorandom nucleotides\n",
      "[build] counting k-mers ... done.\n",
      "[build] building target de Bruijn graph ...  done \n",
      "[build] creating equivalence classes ...  done\n",
      "[build] target de Bruijn graph has 3060 contigs and contains 113601 k-mers \n",
      "\n",
      "\n",
      "[build] loading fasta file /raw/RNAseq_RAW_DATA/rnaseq_fasta/RNASEQ_FASTA_TEST/SRR3649335_1.fastq.fasta.test\n",
      "[build] loading fasta file /raw/RNAseq_RAW_DATA/rnaseq_fasta/RNASEQ_FASTA_TEST/SRR3649335_2.fastq.fasta.test\n",
      "[build] k-mer length: 31\n",
      "[build] warning: clipped off poly-A tail (longer than 10)\n",
      "        from 2 target sequences\n",
      "[build] warning: replaced 240 non-ACGUT characters in the input sequence\n",
      "        with pseudorandom nucleotides\n",
      "[build] counting k-mers ... done.\n",
      "[build] building target de Bruijn graph ...  done \n",
      "[build] creating equivalence classes ...  done\n",
      "[build] target de Bruijn graph has 3142 contigs and contains 112001 k-mers \n",
      "\n",
      "\n",
      "[build] loading fasta file /raw/RNAseq_RAW_DATA/rnaseq_fasta/RNASEQ_FASTA_TEST/SRR3649336_1.fastq.fasta.test\n",
      "[build] loading fasta file /raw/RNAseq_RAW_DATA/rnaseq_fasta/RNASEQ_FASTA_TEST/SRR3649336_2.fastq.fasta.test\n",
      "[build] k-mer length: 31\n",
      "[build] warning: clipped off poly-A tail (longer than 10)\n",
      "        from 4 target sequences\n",
      "[build] warning: replaced 124 non-ACGUT characters in the input sequence\n",
      "        with pseudorandom nucleotides\n",
      "[build] counting k-mers ... done.\n",
      "[build] building target de Bruijn graph ...  done \n",
      "[build] creating equivalence classes ...  done\n",
      "[build] target de Bruijn graph has 3101 contigs and contains 112989 k-mers \n",
      "\n",
      "\n",
      "[build] loading fasta file /raw/RNAseq_RAW_DATA/rnaseq_fasta/RNASEQ_FASTA_TEST/SRR3649337_1.fastq.fasta.test\n",
      "[build] loading fasta file /raw/RNAseq_RAW_DATA/rnaseq_fasta/RNASEQ_FASTA_TEST/SRR3649337_2.fastq.fasta.test\n",
      "[build] k-mer length: 31\n",
      "[build] warning: clipped off poly-A tail (longer than 10)\n",
      "        from 4 target sequences\n",
      "[build] warning: replaced 65 non-ACGUT characters in the input sequence\n",
      "        with pseudorandom nucleotides\n",
      "[build] counting k-mers ... done.\n",
      "[build] building target de Bruijn graph ...  done \n",
      "[build] creating equivalence classes ...  done\n",
      "[build] target de Bruijn graph has 3089 contigs and contains 112778 k-mers \n",
      "\n"
     ]
    }
   ],
   "source": [
    "import sys\n",
    "import re\n",
    "from Bio import SeqIO\n",
    "\n",
    "config = open(\"/raw/RNAseq_RAW_DATA/rnaseq_fasta/rnaseq_fasta_test.txt\" , \"r\")\n",
    "\n",
    "line_count = 0\n",
    "index = \".indx_test\"\n",
    "fasta_path_lists_input = []\n",
    "fasta_path = ''\n",
    "\n",
    "for line in config:\n",
    "    line = line.rstrip()\n",
    "    if line.startswith(\"#\"):\n",
    "        continue\n",
    "    else:\n",
    "        fasta_read_path = line \n",
    "    \n",
    "        #append adds to a list defined above as fastq_path_lists_input\n",
    "        fasta_path_lists_input.append(fasta_read_path)\n",
    "\n",
    "#print(fasta_path_lists_input)\n",
    "    \n",
    "for i in range(0, len(fasta_path_lists_input), 2):\n",
    "\n",
    "    read1 = fasta_path_lists_input[i]\n",
    "    read2 = fasta_path_lists_input[i+1]\n",
    "    \n",
    "    read_name1 = read1.split(\".\")\n",
    "    read_name1 = read_name1[0]\n",
    "    \n",
    "    #print(read_name1)\n",
    "\n",
    "    #break\n",
    "   # print(\"edited fasta from read 1\", read1)\n",
    "   # print(\"edited fasta from read 2\", read2)\n",
    "\n",
    "    ! kallisto index --make-unique -i $read_name1$index $read1 $read2 "
   ]
  },
  {
   "cell_type": "code",
   "execution_count": 36,
   "metadata": {},
   "outputs": [
    {
     "name": "stdout",
     "output_type": "stream",
     "text": [
      "hello worldhappy\r\n"
     ]
    }
   ],
   "source": [
    "var = \"hello world\"\n",
    "\n",
    "var2 = \"happy\"\n",
    "\n",
    "! echo $var$var2\n",
    "\n",
    "\n",
    "\n",
    "\n"
   ]
  },
  {
   "cell_type": "code",
   "execution_count": 32,
   "metadata": {},
   "outputs": [
    {
     "name": "stdout",
     "output_type": "stream",
     "text": [
      "\r\n",
      "Error: FASTA file not found /data/project/TEST_FILES/SRR3649333_1_TEST_4000.fasta\r\n",
      "kallisto 0.43.1\r\n",
      "Builds a kallisto index\r\n",
      "\r\n",
      "Usage: kallisto index [arguments] FASTA-files\r\n",
      "\r\n",
      "Required argument:\r\n",
      "-i, --index=STRING          Filename for the kallisto index to be constructed \r\n",
      "\r\n",
      "Optional argument:\r\n",
      "-k, --kmer-size=INT         k-mer (odd) length (default: 31, max value: 31)\r\n",
      "    --make-unique           Replace repeated target names with unique names\r\n",
      "\r\n"
     ]
    }
   ],
   "source": [
    "# run on command line\n",
    "\n",
    "## -i location of TEST.idx locatin of TEST.fasta\n",
    "\n",
    "! kallisto index -i /data/project/TEST_FILES/TEST_0.idx /data/project/TEST_FILES/SRR3649333_1_TEST_4000.fasta\n"
   ]
  },
  {
   "cell_type": "code",
   "execution_count": 45,
   "metadata": {},
   "outputs": [
    {
     "name": "stdout",
     "output_type": "stream",
     "text": [
      "\n",
      "[build] loading fasta file /data/project/TEST_FILES/SRR3649333_2_TEST_4000.fasta\n",
      "[build] k-mer length: 31\n",
      "[build] warning: clipped off poly-A tail (longer than 10)\n",
      "        from 1 target sequences\n",
      "[build] warning: replaced 62 non-ACGUT characters in the input sequence\n",
      "        with pseudorandom nucleotides\n",
      "[build] counting k-mers ... done.\n",
      "[build] building target de Bruijn graph ...  done \n",
      "[build] creating equivalence classes ...  done\n",
      "[build] target de Bruijn graph has 1062 contigs and contains 43885 k-mers \n",
      "\n"
     ]
    }
   ],
   "source": [
    "! kallisto index -i /data/project/TEST_FILES/SRR3649333_2_TEST_4000.idx /data/project/TEST_FILES/SRR3649333_2_TEST_4000.fasta"
   ]
  },
  {
   "cell_type": "markdown",
   "metadata": {},
   "source": [
    "# Kallisto Quant\n",
    "\n",
    "runs the quantification algorithm. The arguments for the quant command are:\n",
    "https://informatics.fas.harvard.edu/kallisto-example-on-odyssey.html\n",
    "\n",
    "# Usage: kallisto quant [arguments] FASTQ-files\n",
    "\n",
    "\n",
    "Now we can quantify abundances of the transcripts in the RNA-seq datasets with the kallisto \"quant\" function; kallisto can read in either plain-text or gzip-compressed files. In the \"quant\" function we specify:\n",
    "location of the trasncriptome index (parameter \"-i\");\n",
    "kallisto output folder for each dataset (parameter \"-o\");\n",
    "number of bootstrap samples (parameter \"-b\");\n",
    "number of threads to use for bootstraping (parameter \"-t\");\n",
    "and finally, the location of the paired-end fastq, compressed or uncompressed, datasets (as arguments).\n",
    "\n",
    "kallisto quant -i $TRANS_DATA/human_transcripts.idx -o $KALLISTO_DIR/${dataset}.kallisto_out -b 100 -t 32  $KALLISTO_DIR/${dataset}_1.fastq.gz  $KALLISTO_DIR/${dataset}_2.fastq.gz\n",
    "\n",
    "\n",
    "Required arguments:\n",
    "-i, --index=STRING            Filename for the kallisto index to be used for\n",
    "                              quantification\n",
    "-o, --output-dir=STRING       Directory to write output to"
   ]
  },
  {
   "cell_type": "code",
   "execution_count": 47,
   "metadata": {},
   "outputs": [
    {
     "name": "stdout",
     "output_type": "stream",
     "text": [
      "\n",
      "[quant] fragment length distribution will be estimated from the data\n",
      "[index] k-mer length: 31\n",
      "[index] number of targets: 1,000\n",
      "[index] number of k-mers: 44,030\n",
      "[index] number of equivalence classes: 1,051\n",
      "[quant] running in paired-end mode\n",
      "[quant] will process pair 1: /data/project/TEST_FILES/SRR3649333_1_TEST_4000.fastq\n",
      "                             /data/project/TEST_FILES/SRR3649333_2_TEST_4000.fastq\n",
      "[quant] finding pseudoalignments for the reads ... done\n",
      "[quant] processed 1,000 reads, 911 reads pseudoaligned\n",
      "[quant] estimated average fragment length: 107.645\n",
      "[   em] quantifying the abundances ... done\n",
      "[   em] the Expectation-Maximization algorithm ran for 52 rounds\n",
      "\n"
     ]
    }
   ],
   "source": [
    "! kallisto quant -i /data/project/TEST_FILES/SRR3649333_1_TEST_4000.idx -o /data/project/TEST_FILES/SRR3649333_1_TEST_4000.kallisto_output /data/project/TEST_FILES/SRR3649333_1_TEST_4000.fastq /data/project/TEST_FILES/SRR3649333_2_TEST_4000.fastq"
   ]
  },
  {
   "cell_type": "markdown",
   "metadata": {
    "collapsed": true
   },
   "source": [
    "# KALLISTO QUANT - TEST"
   ]
  },
  {
   "cell_type": "code",
   "execution_count": 148,
   "metadata": {},
   "outputs": [],
   "source": [
    "import sys\n",
    "import re\n",
    "from Bio import SeqIO\n",
    "\n",
    "config_index = open(\"/raw/RNAseq_RAW_DATA/rnaseq_fasta/RNASEQ_FASTA_TEST/kallisto_index_test/Kallisto_INDEX.txt\", \"r\")\n",
    "config_fastq = open(\"/data/project/Kallisto_Alignment/Raw_Local.txt\" , \"r\")\n",
    "\n",
    "\n",
    "fastq_path_lists_input = []\n",
    "fastq_path = ''\n",
    "read1_fastq_list = []\n",
    "read2_fastq_list = []\n",
    "read1= ''\n",
    "read2= ''\n",
    "\n",
    "index_path_lists_input = []\n",
    "index_path = ''\n",
    "output = \".kallisto.output\"\n",
    "outputdir = \"/raw/RNAseq_RAW_DATA/rnaseq_fasta/RNASEQ_FASTA_TEST/kallisto_index_test/Kallisto_QUANT/\"\n",
    "\n",
    "condition = ['Parental', 'Parental', 'Brain', 'Brain', 'Brain']\n",
    "\n",
    "### WRITE OUT TO TEXT META-DATA-CONFIG FILE ####\n",
    "    \n",
    "sleuth = open(\"/raw/RNAseq_RAW_DATA/rnaseq_fasta/RNASEQ_FASTA_TEST/sleuth_test/sleuth_test.txt\", \"w+\")\n",
    "\n",
    "sleuth.write(\"sample\" + \"\\t\" + \"condition\" + \"\\t\" + \"path\" + \"\\n\")\n",
    "\n",
    "############# FASTQ ###################\n",
    "\n",
    "for line in config_fastq:\n",
    "    \n",
    "    line = line.rstrip()\n",
    "    if line.startswith(\"#\"):\n",
    "        continue\n",
    "    else:\n",
    "        fastq_read_path = line \n",
    "    \n",
    "        #append adds to a list defined above as fastq_path_lists_input\n",
    "        \n",
    "        fastq_path_lists_input.append(fastq_read_path)\n",
    "\n",
    "#print(fastq_path_lists_input)\n",
    "\n",
    "for i in range(0, len(fastq_path_lists_input), 2):\n",
    "    read1 = fastq_path_lists_input[i]\n",
    "    read2 = fastq_path_lists_input[i+1]\n",
    "    \n",
    "    read1_fastq_list.append(read1)\n",
    "    read2_fastq_list.append(read2)\n",
    "    \n",
    "       \n",
    "############ INDEX #####################\n",
    "\n",
    "for line in config_index:\n",
    "    line = line.rstrip()\n",
    "    if line.startswith(\"#\"):\n",
    "        continue\n",
    "    else:\n",
    "        index_path_lists_input.append(line) \n",
    "\n",
    "for i in range(0, len(index_path_lists_input), 1):\n",
    "\n",
    "    index_path = index_path_lists_input[i]\n",
    "    \n",
    "    sample_id = index_path.split(\"/\")\n",
    "    \n",
    "    sample_id = sample_id[6]\n",
    "    \n",
    "    sample_id = sample_id.split(\".\")\n",
    "    \n",
    "    sample_id = sample_id [0]\n",
    "    \n",
    "    #need to recall read1 and read 2 lists from previous for loop\n",
    "    \n",
    "    read1_path = read1_fastq_list[i]\n",
    "    read2_path = read2_fastq_list[i]\n",
    "    \n",
    "    sleuth.write(sample_id + \"\\t\" + condition[i] + \"\\t\" + outputdir + sample_id + output + \"\\n\")\n",
    "    \n",
    "    #print(\"Done\")\n",
    "    #####USE THREADS!!!!!!!!\n",
    "    \n",
    "    #### BOOTSTRAP at LEAST 100 times\n",
    "    \n",
    "    #print(sample_id)\n",
    "    #alternative: split(\"/\")[6].split('.')[0]\n",
    "    \n",
    "    #sample id is a variable that specifies the rnaseq id this allows you to run the kallisto command with correct output folders\n",
    "    #this changes everytime when you go through the loop\n",
    "    \n",
    "    #type(index_path)\n",
    "    \n",
    "    #! echo kallisto quant -i $index_path -o $outputdir$sample_id$output $read1_path $read2_path\n",
    "\n",
    "    ##Below command seperates outputfiles into seperate folders - i like this one\n",
    "    #####! time kallisto quant -i $index_path -o $outputdir$sample_id$output -b 100 -t 5 $read1_path $read2_path\n",
    "    \n",
    "    #! echo time kallisto quant -i $index_path -o $outputdir$sample_id$output -b 100 -t 5 $read1_path $read2_path"
   ]
  },
  {
   "cell_type": "code",
   "execution_count": null,
   "metadata": {
    "collapsed": true
   },
   "outputs": [],
   "source": []
  },
  {
   "cell_type": "code",
   "execution_count": null,
   "metadata": {
    "collapsed": true
   },
   "outputs": [],
   "source": []
  },
  {
   "cell_type": "code",
   "execution_count": null,
   "metadata": {
    "collapsed": true
   },
   "outputs": [],
   "source": []
  }
 ],
 "metadata": {
  "kernelspec": {
   "display_name": "Python 3",
   "language": "python",
   "name": "python3"
  },
  "language_info": {
   "codemirror_mode": {
    "name": "ipython",
    "version": 3
   },
   "file_extension": ".py",
   "mimetype": "text/x-python",
   "name": "python",
   "nbconvert_exporter": "python",
   "pygments_lexer": "ipython3",
   "version": "3.6.3"
  }
 },
 "nbformat": 4,
 "nbformat_minor": 2
}
