{
 "cells": [
  {
   "cell_type": "code",
   "execution_count": 7,
   "metadata": {},
   "outputs": [
    {
     "name": "stdout",
     "output_type": "stream",
     "text": [
      "['/raw/RNAseq_RAW_DATA/parental_datasets/SRR3649333_1.fastq', '/raw/RNAseq_RAW_DATA/parental_datasets/SRR3649333_2.fastq', '/raw/RNAseq_RAW_DATA/parental_datasets/SRR3649334_1.fastq', '/raw/RNAseq_RAW_DATA/parental_datasets/SRR3649334_2.fastq', '/raw/RNAseq_RAW_DATA/brain_derivative/SRR3649335_1.fastq', '/raw/RNAseq_RAW_DATA/brain_derivative/SRR3649335_2.fastq', '/raw/RNAseq_RAW_DATA/brain_derivative/SRR3649336_1.fastq', '/raw/RNAseq_RAW_DATA/brain_derivative/SRR3649336_2.fastq', '/raw/RNAseq_RAW_DATA/brain_derivative/SRR3649337_1.fastq', '/raw/RNAseq_RAW_DATA/brain_derivative/SRR3649337_2.fastq']\n",
      "['/data/project/STAR_alignment/STAR_output/SRR3649333/', '/data/project/STAR_alignment/STAR_output/SRR3649334/', '/data/project/STAR_alignment/STAR_output/SRR3649335/', '/data/project/STAR_alignment/STAR_output/SRR3649336/', '/data/project/STAR_alignment/STAR_output/SRR3649337/']\n"
     ]
    }
   ],
   "source": [
    "# extract path information for raw fastq and output from config file and store them in a list\n",
    "file_read = open(\"STAR_align.config\", \"r\")\n",
    "fastq_list = []\n",
    "output_list = []\n",
    "\n",
    "for line in file_read:\n",
    "    if line.startswith(\"RAWfastq>\"):\n",
    "        line=line.strip()\n",
    "        line=line[9:]\n",
    "        fastq_list.append(line)\n",
    "    if line.startswith(\"output>\"):\n",
    "        line=line.strip()\n",
    "        line=line[7:]\n",
    "        output_list.append(line)\n",
    "print(fastq_list)\n",
    "print(output_list)"
   ]
  },
  {
   "cell_type": "markdown",
   "metadata": {},
   "source": [
    "## how to pass variables from python to bash\n",
    "   use __$"
   ]
  },
  {
   "cell_type": "code",
   "execution_count": 8,
   "metadata": {},
   "outputs": [
    {
     "name": "stdout",
     "output_type": "stream",
     "text": [
      "/raw/RNAseq_RAW_DATA/parental_datasets/SRR3649333_1.fastq /raw/RNAseq_RAW_DATA/parental_datasets/SRR3649333_2.fastq /data/project/STAR_alignment/STAR_output/SRR3649333/\n",
      "Oct 30 13:37:53 ..... started STAR run\n",
      "Oct 30 13:37:53 ..... loading genome\n",
      "Oct 30 13:41:33 ..... started mapping\n",
      "Oct 30 13:53:22 ..... started sorting BAM\n",
      "Oct 30 13:59:43 ..... finished successfully\n",
      "6087.19user 254.14system 21:55.36elapsed 482%CPU (0avgtext+0avgdata 30789248maxresident)k\n",
      "174135272inputs+118096496outputs (1major+26179158minor)pagefaults 0swaps\n"
     ]
    }
   ],
   "source": [
    "dataset_count =0\n",
    "for index in range (0,len(fastq_list),2):\n",
    "    read_1 = fastq_list[index]\n",
    "    read_2 = fastq_list[index+1]\n",
    "    output_path = output_list[dataset_count]\n",
    "    dataset_count += 1\n",
    "    print(read_1, read_2, output_path)\n",
    "    #! mkdir $output_path\n",
    "    ! time STAR --runThreadN 8 --genomeDir /data/project/refgenome_STAR  --readFilesIn $read_1 $read_2 --outSAMmapqUnique 255 -- outSAMtype BAM SortedByCoordinate \\\n",
    "    --outFileNamePrefix $output_path\n",
    "    break"
   ]
  },
  {
   "cell_type": "markdown",
   "metadata": {
    "collapsed": true
   },
   "source": [
    " ### options in STAR command\n",
    "   _1. required\n",
    "    --runThreadN NumberOfThreads\n",
    "    --genomeDir /path/to/genomeDir\n",
    "    --readFilesIn /path/to/read1 [/path/to/read2]\n",
    "    --outFileNamePrefix /path/to/output/dir/prefix\n",
    "    \n",
    "   _2. Optional\n",
    "    --readFilesCommand UncompressionCommand e.g.zcat - to uncompress .gz files\n",
    "    --outSAMmapqUnique Integer0to255 e.g. mapping quality MAPQ=255 for the unique mappers\n",
    "    --outSAMtype SAM/BAM Unsorted/SortedByCoordinate"
   ]
  }
 ],
 "metadata": {
  "kernelspec": {
   "display_name": "Python 3",
   "language": "python",
   "name": "python3"
  },
  "language_info": {
   "codemirror_mode": {
    "name": "ipython",
    "version": 3
   },
   "file_extension": ".py",
   "mimetype": "text/x-python",
   "name": "python",
   "nbconvert_exporter": "python",
   "pygments_lexer": "ipython3",
   "version": "3.6.3"
  }
 },
 "nbformat": 4,
 "nbformat_minor": 2
}
